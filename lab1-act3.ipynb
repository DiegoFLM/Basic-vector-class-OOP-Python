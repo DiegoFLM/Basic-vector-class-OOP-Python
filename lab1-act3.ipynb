{
 "cells": [
  {
   "cell_type": "markdown",
   "metadata": {},
   "source": [
    "# Laboratorio 1 - Computación Gráfica\n",
    "## Integrantes:\n",
    "### Jose David Barona Hernandez - 1727590\n",
    "### Jennyfer Belalcazar Manrique - 1925639\n",
    "### Diego Ledesma - 1928161"
   ]
  },
  {
   "cell_type": "markdown",
   "metadata": {},
   "source": [
    "# Actividad No. 3 [50%]\n",
    "Utilizando POO (Programación Orientado a Objetos) implemente una o varias clases en C++, Python o Javascript que cumplan con las siguientes características:"
   ]
  },
  {
   "cell_type": "markdown",
   "metadata": {},
   "source": [
    "## 3.1\n",
    "[10%] Modele un vector en R^n, con n en {1,2,3} dimensiones en coordenadas cartesianas.\n"
   ]
  },
  {
   "cell_type": "code",
   "execution_count": 37,
   "metadata": {},
   "outputs": [],
   "source": [
    "import numpy as np"
   ]
  },
  {
   "cell_type": "code",
   "execution_count": 140,
   "metadata": {},
   "outputs": [],
   "source": [
    "class vector:\n",
    "    def __init__(self, array):\n",
    "        self.array = np.array(array)\n",
    "        self.dimension = len(array)\n",
    "        #print (\"Vector created with array: \", self.array)\n",
    "    \n",
    "    def getArray(self):\n",
    "        return self.array\n",
    "\n",
    "    def getElem(self, index):\n",
    "        return self.array[index]\n",
    "\n",
    "    def norm(self):\n",
    "        n = 0\n",
    "        for i in range (0, self.dimension):\n",
    "            n += self.array[i]**2\n",
    "        return np.sqrt(n) \n",
    "    \n",
    "    #checkDim classmethod can be used as a constructor that\n",
    "    #verifies the input is a vector of a valid dimension\n",
    "    @classmethod\n",
    "    def checkDim(cls, array):\n",
    "        if (len(array) >= 1 and len(array) <= 3):\n",
    "            return cls(array)\n",
    "        else:\n",
    "            print(\"Error: Dimension must be 1, 2, or 3\")\n",
    "            return None"
   ]
  },
  {
   "cell_type": "code",
   "execution_count": 39,
   "metadata": {},
   "outputs": [
    {
     "name": "stdout",
     "output_type": "stream",
     "text": [
      "Error: Dimension must be 1, 2, or 3\n",
      "Vector created with array:  [1 2 3]\n"
     ]
    }
   ],
   "source": [
    "vec = vector.checkDim([])\n",
    "#print(vec.getArray())\n",
    "vec2 = vector.checkDim([1,2,3])"
   ]
  },
  {
   "cell_type": "markdown",
   "metadata": {},
   "source": [
    "## 3.2\n",
    "[20%] Implementar las siguientes operaciones"
   ]
  },
  {
   "cell_type": "markdown",
   "metadata": {},
   "source": [
    "\n",
    "### a. Suma, resta de vectores, y multiplicación de un vector por un escalar.  \n",
    "### d. División de un vector por un escalar"
   ]
  },
  {
   "cell_type": "code",
   "execution_count": 40,
   "metadata": {},
   "outputs": [],
   "source": [
    "def scalarVecOp(scalar, vec, op):\n",
    "    if ( isinstance(scalar, (int, float)) and isinstance(vec, vector) ):\n",
    "        if op == \"+\":\n",
    "            print(\"Error: scalar and vector addition not supported\")\n",
    "            return None\n",
    "        elif op == \"-\":\n",
    "            print(\"Error: scalar and vector subtraction not supported\")\n",
    "            return None\n",
    "        elif op == \"*\":\n",
    "            return vector.checkDim(scalar * vec.getArray())\n",
    "        elif op == \"/\":\n",
    "            if scalar == 0:\n",
    "                print(\"Error: division by zero not supported\")\n",
    "                return None\n",
    "            return vector.checkDim( vec.getArray() / scalar )\n",
    "        else:\n",
    "            print(\"Error: Invalid operation\")\n",
    "            return None\n",
    "    else:\n",
    "        print(\"Error: Second argument must be a vector\")\n",
    "        return None"
   ]
  },
  {
   "cell_type": "markdown",
   "metadata": {},
   "source": [
    "#### Testing"
   ]
  },
  {
   "cell_type": "code",
   "execution_count": 41,
   "metadata": {},
   "outputs": [
    {
     "name": "stdout",
     "output_type": "stream",
     "text": [
      "vec2.getArray() [1 2 3]\n",
      "Vector created with array:  [3 6 9]\n",
      "vec3.getArray() [3 6 9]\n"
     ]
    }
   ],
   "source": [
    "print( \"vec2.getArray()\", vec2.getArray() )\n",
    "vec3 = scalarVecOp(3, vec2, \"*\")\n",
    "print( \"vec3.getArray()\", vec3.getArray() )"
   ]
  },
  {
   "cell_type": "code",
   "execution_count": 42,
   "metadata": {},
   "outputs": [
    {
     "name": "stdout",
     "output_type": "stream",
     "text": [
      "vec2.getArray() [1 2 3]\n",
      "Vector created with array:  [0 0 0]\n",
      "vec4.getArray() [0 0 0]\n"
     ]
    }
   ],
   "source": [
    "print( \"vec2.getArray()\", vec2.getArray() )\n",
    "vec4 = scalarVecOp(0, vec2, \"*\")\n",
    "print( \"vec4.getArray()\", vec4.getArray() )"
   ]
  },
  {
   "cell_type": "code",
   "execution_count": 43,
   "metadata": {},
   "outputs": [
    {
     "name": "stdout",
     "output_type": "stream",
     "text": [
      "vec2.getArray() [1 2 3]\n",
      "Error: division by zero not supported\n",
      "isinstance(vec5, vector) False\n"
     ]
    }
   ],
   "source": [
    "print( \"vec2.getArray()\", vec2.getArray() )\n",
    "vec5 = scalarVecOp(0, vec2, \"/\")\n",
    "print( \"isinstance(vec5, vector)\", isinstance(vec5, vector) )"
   ]
  },
  {
   "cell_type": "code",
   "execution_count": 44,
   "metadata": {},
   "outputs": [
    {
     "name": "stdout",
     "output_type": "stream",
     "text": [
      "vec2.getArray() [1 2 3]\n",
      "Vector created with array:  [0.2 0.4 0.6]\n",
      "isinstance(vec5, vector) True\n"
     ]
    }
   ],
   "source": [
    "print( \"vec2.getArray()\", vec2.getArray() )\n",
    "vec5 = scalarVecOp(5, vec2, \"/\")\n",
    "print( \"isinstance(vec5, vector)\", isinstance(vec5, vector) )"
   ]
  },
  {
   "cell_type": "markdown",
   "metadata": {},
   "source": [
    "### vecOp"
   ]
  },
  {
   "cell_type": "code",
   "execution_count": 71,
   "metadata": {},
   "outputs": [],
   "source": [
    "#Operaciones entre vectores\n",
    "def vecOp(vec1, vec2, op):\n",
    "  if(isinstance(vec1, vector) and isinstance(vec2, vector) ):\n",
    "    if op==\"+\":\n",
    "      return vector.checkDim(vec1.getArray() + vec2.getArray())\n",
    "    elif op==\"-\":\n",
    "      return vector.checkDim(vec1.getArray() - vec2.getArray())\n",
    "    else:\n",
    "            print(\"Error: Invalid operation\")\n",
    "            return None\n",
    "  else:\n",
    "        print(\"Error: Second and first arguments must be a vector\")\n",
    "        return None"
   ]
  },
  {
   "cell_type": "markdown",
   "metadata": {},
   "source": [
    "#### Testing"
   ]
  },
  {
   "cell_type": "code",
   "execution_count": 73,
   "metadata": {},
   "outputs": [
    {
     "name": "stdout",
     "output_type": "stream",
     "text": [
      "Vector created with array:  [1 2 3]\n",
      "Vector created with array:  [  5   2 -10]\n",
      "Vector created with array:  [ 6  4 -7]\n",
      "vec3.getArray() [ 6  4 -7]\n"
     ]
    }
   ],
   "source": [
    "#Test\n",
    "vec1 = vector.checkDim([1,2,3])\n",
    "vec2 = vector.checkDim([5,2,-10])\n",
    "vec3 = vecOp(vec1, vec2, \"+\")\n",
    "print( \"vec3.getArray()\", vec3.getArray() )"
   ]
  },
  {
   "cell_type": "code",
   "execution_count": 75,
   "metadata": {},
   "outputs": [
    {
     "name": "stdout",
     "output_type": "stream",
     "text": [
      "Vector created with array:  [1 2 3]\n",
      "Vector created with array:  [  5   2 -10]\n",
      "Vector created with array:  [-4  0 13]\n",
      "vec5.getArray() [-4  0 13]\n"
     ]
    }
   ],
   "source": [
    "vec3 = vector.checkDim([1,2,3])\n",
    "vec4 = vector.checkDim([5,2,-10])\n",
    "vec5 = vecOp(vec3, vec4, \"-\")\n",
    "print( \"vec5.getArray()\", vec5.getArray() )"
   ]
  },
  {
   "cell_type": "markdown",
   "metadata": {},
   "source": [
    "### b. Multiplicación de vectores (cross product)."
   ]
  },
  {
   "cell_type": "code",
   "execution_count": 45,
   "metadata": {},
   "outputs": [],
   "source": [
    "def crossProduct(v1, v2):\n",
    "    if ( isinstance(v1, vector) and isinstance(v2, vector) ):\n",
    "        if ( v1.dimension != v2.dimension ):\n",
    "            print(\"Error: Vectors must be of the same dimension\")\n",
    "            return None\n",
    "        elif (v1.dimension == 2 and v2.dimension == 2): #Returns a scalar\n",
    "            return  v1.getElem(0)*v2.getElem(1) - v1.getElem(1)*v2.getElem(0) \n",
    "        elif (v1.dimension == 3 and v2.dimension == 3):\n",
    "            return vector.checkDim([ v1.getElem(1)*v2.getElem(2) - v1.getElem(2)*v2.getElem(1), \n",
    "                    v1.getElem(2)*v2.getElem(0) - v1.getElem(0)*v2.getElem(2), \n",
    "                    v1.getElem(0)*v2.getElem(1) - v1.getElem(1)*v2.getElem(0) ])\n",
    "        else:\n",
    "            print(\"Error: Cross product only supported for 3D vectors\")\n",
    "            return None\n",
    "    else:\n",
    "        print(\"Error: Both arguments must be vectors\")\n",
    "        return None"
   ]
  },
  {
   "cell_type": "code",
   "execution_count": 46,
   "metadata": {},
   "outputs": [
    {
     "data": {
      "text/plain": [
       "array([0, 0, 1])"
      ]
     },
     "execution_count": 46,
     "metadata": {},
     "output_type": "execute_result"
    }
   ],
   "source": [
    "#Test cross product\n",
    "a = np.array([1,0,0])\n",
    "b = np.array([0,1,0])\n",
    "aCrossb = np.cross(a,b)\n",
    "aCrossb"
   ]
  },
  {
   "cell_type": "code",
   "execution_count": 47,
   "metadata": {},
   "outputs": [
    {
     "name": "stdout",
     "output_type": "stream",
     "text": [
      "Vector created with array:  [1 0 0]\n",
      "Vector created with array:  [0 1 0]\n",
      "Vector created with array:  [0 0 1]\n",
      "vecCross.getArray() [0 0 1]\n"
     ]
    }
   ],
   "source": [
    "veca = vector.checkDim([1,0,0])\n",
    "vecb = vector.checkDim([0,1,0])\n",
    "vecCross = crossProduct(veca, vecb)\n",
    "print( \"vecCross.getArray()\", vecCross.getArray() )"
   ]
  },
  {
   "cell_type": "code",
   "execution_count": 48,
   "metadata": {},
   "outputs": [
    {
     "data": {
      "text/plain": [
       "array(1)"
      ]
     },
     "execution_count": 48,
     "metadata": {},
     "output_type": "execute_result"
    }
   ],
   "source": [
    "a = np.array([1,0])\n",
    "b = np.array([0,1])\n",
    "aCrossb = np.cross(a,b)\n",
    "aCrossb"
   ]
  },
  {
   "cell_type": "code",
   "execution_count": 49,
   "metadata": {},
   "outputs": [
    {
     "name": "stdout",
     "output_type": "stream",
     "text": [
      "Vector created with array:  [1 0]\n",
      "Vector created with array:  [0 1]\n",
      "crossEF 1\n"
     ]
    }
   ],
   "source": [
    "vE = vector.checkDim([1,0])\n",
    "vF = vector.checkDim([0,1])\n",
    "crossEF = crossProduct(vE, vF)\n",
    "print( \"crossEF\", crossEF )"
   ]
  },
  {
   "cell_type": "markdown",
   "metadata": {},
   "source": [
    "### c. Producto interno (producto punto)"
   ]
  },
  {
   "cell_type": "code",
   "execution_count": 50,
   "metadata": {},
   "outputs": [],
   "source": [
    "def dotProduct(v1, v2):\n",
    "    if ( isinstance(v1, vector) and isinstance(v2, vector) ):\n",
    "        if ( v1.dimension != v2.dimension ):\n",
    "            print(\"Error: Vectors must be of the same dimension\")\n",
    "            return None\n",
    "        else:\n",
    "            dotProd = 0\n",
    "            for i in range (v1.dimension):\n",
    "                dotProd += v1.getElem(i)*v2.getElem(i)\n",
    "            return dotProd\n",
    "    else:\n",
    "        print(\"Error: Both arguments must be vectors\")\n",
    "        return None"
   ]
  },
  {
   "cell_type": "code",
   "execution_count": 51,
   "metadata": {},
   "outputs": [
    {
     "data": {
      "text/plain": [
       "0"
      ]
     },
     "execution_count": 51,
     "metadata": {},
     "output_type": "execute_result"
    }
   ],
   "source": [
    "#Test dot product\n",
    "a = np.array([1,0,0])\n",
    "b = np.array([0,1,0])\n",
    "aDotb = np.dot(a,b)\n",
    "aDotb"
   ]
  },
  {
   "cell_type": "code",
   "execution_count": 52,
   "metadata": {},
   "outputs": [
    {
     "name": "stdout",
     "output_type": "stream",
     "text": [
      "Vector created with array:  [1 0 0]\n",
      "Vector created with array:  [0 1 0]\n",
      "dotProd 0\n"
     ]
    }
   ],
   "source": [
    "veca = vector.checkDim([1,0,0])\n",
    "vecb = vector.checkDim([0,1,0])\n",
    "dotProd = dotProduct(veca, vecb)\n",
    "print( \"dotProd\", dotProd )"
   ]
  },
  {
   "cell_type": "code",
   "execution_count": 53,
   "metadata": {},
   "outputs": [
    {
     "data": {
      "text/plain": [
       "7"
      ]
     },
     "execution_count": 53,
     "metadata": {},
     "output_type": "execute_result"
    }
   ],
   "source": [
    "c = np.array([1,2,0])\n",
    "d = np.array([5,1,3])\n",
    "cDotd = np.dot(c,d)\n",
    "cDotd"
   ]
  },
  {
   "cell_type": "code",
   "execution_count": 54,
   "metadata": {},
   "outputs": [
    {
     "name": "stdout",
     "output_type": "stream",
     "text": [
      "Vector created with array:  [1 2 0]\n",
      "Vector created with array:  [5 1 3]\n",
      "dotProd 7\n"
     ]
    }
   ],
   "source": [
    "vecC = vector.checkDim([1,2,0])\n",
    "vecD = vector.checkDim([5,1,3])\n",
    "dotProd = dotProduct(vecC, vecD)\n",
    "print( \"dotProd\", dotProd )"
   ]
  },
  {
   "cell_type": "code",
   "execution_count": 55,
   "metadata": {},
   "outputs": [
    {
     "data": {
      "text/plain": [
       "9"
      ]
     },
     "execution_count": 55,
     "metadata": {},
     "output_type": "execute_result"
    }
   ],
   "source": [
    "e = np.array([3,2])\n",
    "f = np.array([1,3])\n",
    "eDotf = np.dot(e,f)\n",
    "eDotf"
   ]
  },
  {
   "cell_type": "code",
   "execution_count": 56,
   "metadata": {},
   "outputs": [
    {
     "name": "stdout",
     "output_type": "stream",
     "text": [
      "Vector created with array:  [3 2]\n",
      "Vector created with array:  [1 3]\n",
      "dotProd 9\n"
     ]
    }
   ],
   "source": [
    "vecE = vector.checkDim([3,2])\n",
    "vecF = vector.checkDim([1,3])\n",
    "dotProd = dotProduct(vecE, vecF)\n",
    "print( \"dotProd\", dotProd )"
   ]
  },
  {
   "cell_type": "code",
   "execution_count": 57,
   "metadata": {},
   "outputs": [
    {
     "data": {
      "text/plain": [
       "12"
      ]
     },
     "execution_count": 57,
     "metadata": {},
     "output_type": "execute_result"
    }
   ],
   "source": [
    "g = np.array([3])\n",
    "h = np.array([4])\n",
    "gDoth = np.dot(g,h)\n",
    "gDoth"
   ]
  },
  {
   "cell_type": "code",
   "execution_count": 58,
   "metadata": {},
   "outputs": [
    {
     "name": "stdout",
     "output_type": "stream",
     "text": [
      "Vector created with array:  [3]\n",
      "Vector created with array:  [4]\n",
      "dotProd 12\n"
     ]
    }
   ],
   "source": [
    "vecG = vector.checkDim([3])\n",
    "vecH = vector.checkDim([4])\n",
    "dotProd = dotProduct(vecG, vecH)\n",
    "print( \"dotProd\", dotProd )"
   ]
  },
  {
   "cell_type": "markdown",
   "metadata": {},
   "source": [
    "### e. Calcular ángulo entre dos vectores"
   ]
  },
  {
   "cell_type": "code",
   "execution_count": 59,
   "metadata": {},
   "outputs": [],
   "source": [
    "import math"
   ]
  },
  {
   "cell_type": "code",
   "execution_count": 60,
   "metadata": {},
   "outputs": [],
   "source": [
    "def angle(v1, v2):\n",
    "    if ( isinstance(v1, vector) and isinstance(v2, vector) ):\n",
    "        if ( v1.dimension != v2.dimension ):\n",
    "            print(\"Error: Vectors must be of the same dimension\")\n",
    "            return None\n",
    "        else:\n",
    "            dotProd = dotProduct(v1, v2)\n",
    "            normProd = v1.norm() * v2.norm()\n",
    "            if normProd == 0:\n",
    "                print(\"Error: norm of one or both vectors is zero\")\n",
    "                return None\n",
    "            else:\n",
    "                return math.acos(dotProd / normProd)\n",
    "    else:\n",
    "        print(\"Error: Both arguments must be vectors\")\n",
    "        return None"
   ]
  },
  {
   "cell_type": "markdown",
   "metadata": {},
   "source": [
    "#### Testing"
   ]
  },
  {
   "cell_type": "code",
   "execution_count": 61,
   "metadata": {},
   "outputs": [
    {
     "data": {
      "text/plain": [
       "1.5707963267948966"
      ]
     },
     "execution_count": 61,
     "metadata": {},
     "output_type": "execute_result"
    }
   ],
   "source": [
    "#Test angle\n",
    "a = np.array([1,0,0])\n",
    "b = np.array([0,1,0])\n",
    "angleAB = np.arccos(np.dot(a,b) / (np.linalg.norm(a) * np.linalg.norm(b)))\n",
    "angleAB "
   ]
  },
  {
   "cell_type": "code",
   "execution_count": 62,
   "metadata": {},
   "outputs": [
    {
     "name": "stdout",
     "output_type": "stream",
     "text": [
      "Vector created with array:  [1 0 0]\n",
      "Vector created with array:  [0 1 0]\n",
      "angleAB 1.5707963267948966\n"
     ]
    }
   ],
   "source": [
    "vecA = vector.checkDim([1,0,0])\n",
    "vecB = vector.checkDim([0,1,0])\n",
    "angleAB = angle(vecA, vecB)\n",
    "print( \"angleAB\", angleAB )"
   ]
  },
  {
   "cell_type": "code",
   "execution_count": 63,
   "metadata": {},
   "outputs": [
    {
     "data": {
      "text/plain": [
       "0.9097531579442097"
      ]
     },
     "execution_count": 63,
     "metadata": {},
     "output_type": "execute_result"
    }
   ],
   "source": [
    "c = np.array([1,2])\n",
    "d = np.array([5,1])\n",
    "angleCD = np.arccos(np.dot(c,d) / (np.linalg.norm(c) * np.linalg.norm(d)))\n",
    "angleCD"
   ]
  },
  {
   "cell_type": "code",
   "execution_count": 64,
   "metadata": {},
   "outputs": [
    {
     "name": "stdout",
     "output_type": "stream",
     "text": [
      "Vector created with array:  [1 2]\n",
      "Vector created with array:  [5 1]\n",
      "angleCD 0.9097531579442097\n"
     ]
    }
   ],
   "source": [
    "vecC = vector.checkDim([1,2])\n",
    "vecD = vector.checkDim([5,1])\n",
    "angleCD = angle(vecC, vecD)\n",
    "print( \"angleCD\", angleCD )"
   ]
  },
  {
   "cell_type": "markdown",
   "metadata": {},
   "source": [
    "### f. Normalización de vectores"
   ]
  },
  {
   "cell_type": "code",
   "execution_count": 65,
   "metadata": {},
   "outputs": [],
   "source": [
    "def normalize(vec):\n",
    "    if ( isinstance(vec, vector) ):\n",
    "        if ( vec.norm() == 0 ):\n",
    "            print(\"Error: norm of vector is zero\")\n",
    "            return None\n",
    "        else:\n",
    "            return scalarVecOp(vec.norm(), vec, \"/\")\n",
    "    else:\n",
    "        print(\"Error: Argument must be a vector\")\n",
    "        return None"
   ]
  },
  {
   "cell_type": "markdown",
   "metadata": {},
   "source": [
    "#### Testing"
   ]
  },
  {
   "cell_type": "code",
   "execution_count": 66,
   "metadata": {},
   "outputs": [
    {
     "data": {
      "text/plain": [
       "array([0.50507627, 0.30304576, 0.80812204])"
      ]
     },
     "execution_count": 66,
     "metadata": {},
     "output_type": "execute_result"
    }
   ],
   "source": [
    "#Test\n",
    "a = np.array([5,3,8])\n",
    "aNorm = a / np.linalg.norm(a)\n",
    "aNorm"
   ]
  },
  {
   "cell_type": "code",
   "execution_count": 67,
   "metadata": {},
   "outputs": [
    {
     "name": "stdout",
     "output_type": "stream",
     "text": [
      "Vector created with array:  [5 3 8]\n",
      "Vector created with array:  [0.50507627 0.30304576 0.80812204]\n",
      "vecANorm [0.50507627 0.30304576 0.80812204]\n"
     ]
    }
   ],
   "source": [
    "vecA = vector.checkDim([5,3,8])\n",
    "vecANorm = normalize(vecA)\n",
    "print( \"vecANorm\", vecANorm.getArray() )"
   ]
  },
  {
   "cell_type": "code",
   "execution_count": 68,
   "metadata": {},
   "outputs": [
    {
     "data": {
      "text/plain": [
       "array([0.57346234, 0.81923192])"
      ]
     },
     "execution_count": 68,
     "metadata": {},
     "output_type": "execute_result"
    }
   ],
   "source": [
    "b = np.array([7, 10])\n",
    "bNorm = b / np.linalg.norm(b)\n",
    "bNorm"
   ]
  },
  {
   "cell_type": "code",
   "execution_count": 69,
   "metadata": {},
   "outputs": [
    {
     "name": "stdout",
     "output_type": "stream",
     "text": [
      "Vector created with array:  [ 7 10]\n",
      "Vector created with array:  [0.57346234 0.81923192]\n",
      "vecBNorm [0.57346234 0.81923192]\n"
     ]
    }
   ],
   "source": [
    "vecB = vector.checkDim([7, 10])\n",
    "vecBNorm = normalize(vecB)\n",
    "print( \"vecBNorm\", vecBNorm.getArray() )"
   ]
  },
  {
   "cell_type": "markdown",
   "metadata": {},
   "source": [
    "## 3.3\n",
    "[20%] Cree una aplicación que simule el lanzamiento de proyectil en Rn, con n en {1,2,3} se debe considerar"
   ]
  },
  {
   "cell_type": "code",
   "execution_count": 227,
   "metadata": {},
   "outputs": [],
   "source": [
    "#simulator class receives two vectors of the same dimension (1, 2 or 3):\n",
    "#initialPosition, initialVelocity.\n",
    "#and a real number: timeStep\n",
    "\n",
    "import math\n",
    "import matplotlib.pyplot as plt\n",
    "class simulator:\n",
    "\n",
    "    #self.timeStep is in seconds\n",
    "    def __init__(self, initialPosition, initialVelocity, timeStep):\n",
    "        self._initPos = initialPosition\n",
    "        self._initVel = initialVelocity\n",
    "        self._timeStep = timeStep\n",
    "        self._dimension = initialPosition.dimension\n",
    "\n",
    "        self._currentTime = 0\n",
    "        self._currentVel = self._initVel\n",
    "        self._currentPos = self._initPos\n",
    "\n",
    "        # Each column stores the values for a dimension, and the last column stores the time values.\n",
    "        # so, each row is a position with its time at the end (right).\n",
    "        self._trajectory = np.array( [ np.append( self._initPos.getArray(), 0 ) ] )\n",
    "\n",
    "        if( initialPosition.dimension == 1 ):\n",
    "            self._gravity = vector.checkDim( [-9.8] )\n",
    "        elif( initialPosition.dimension == 2 ):\n",
    "            self._gravity = vector.checkDim( [0, -9.8] )\n",
    "        elif( initialPosition.dimension == 3 ):\n",
    "            self._gravity = vector.checkDim( [0, 0, -9.8] )\n",
    "\n",
    "\n",
    "    \n",
    "    def tSimulate(self):\n",
    "        while ( self._currentPos.getElem( self._currentPos.dimension - 1 ) >= 0 ):\n",
    "            self._currentTime += self._timeStep\n",
    "            \n",
    "            self._currentPos = vecOp(self._currentPos, scalarVecOp(self._timeStep, self._currentVel, \"*\"), \"+\")\n",
    "            self._currentVel = vecOp(self._currentVel, scalarVecOp(self._timeStep, self._gravity, \"*\"), \"+\")\n",
    "            self._trajectory = np.append(self._trajectory, [ np.append(self._currentPos.getArray(), self._currentTime) ], axis = 0)\n",
    "        return self._trajectory\n",
    "\n",
    "    def hDisR3(self,vec1,vec2):\n",
    "        return math.sqrt((vec1[0] - vec2[0])**2 + (vec1[1] - vec2[1])**2 ) \n",
    "\n",
    "    def finalTime(self):\n",
    "        return self._trajectory[-1][-1]\n",
    "\n",
    "    def plotTrayectory(self):\n",
    "        if( self._dimension == 1 ):\n",
    "            plt.plot( self._trajectory[:,1], self._trajectory[:,0] )\n",
    "            plt.xlabel(\"time [s]\")\n",
    "            plt.ylabel(\"height [m]\")\n",
    "        elif( self._dimension == 2 ):\n",
    "            plt.plot( self._trajectory[:,0], self._trajectory[:,1] )\n",
    "            plt.xlabel(\"x [m]\")\n",
    "            plt.ylabel(\"y [m]\")\n",
    "        elif( self._dimension == 3 ):\n",
    "            fig = plt.figure()\n",
    "            ax = fig.add_subplot(111, projection='3d')\n",
    "            ax.plot( self._trajectory[:,0], self._trajectory[:,1], self._trajectory[:,2] )\n",
    "            ax.set_xlabel('X [m]')\n",
    "            ax.set_ylabel('Y [m]')\n",
    "            ax.set_zlabel('Z [m]')\n",
    "        plt.show()\n",
    "\n",
    "    @classmethod\n",
    "    def checkDim(cls, initialPositionVec, initialVelocityVec, timeStep):\n",
    "        if ( isinstance(initialPositionVec, vector) and isinstance(initialVelocityVec, vector) ):\n",
    "            if ( initialPositionVec.dimension != initialVelocityVec.dimension ):\n",
    "                print(\"Error: Vectors must be of the same dimension\")\n",
    "                return None\n",
    "            elif ( initialPositionVec.getElem( \n",
    "                    initialPositionVec.dimension - 1 ) < 0 ):\n",
    "                print(\"Error: Initial position must be above the ground\")\n",
    "                return None\n",
    "            else:\n",
    "                if ( isinstance(timeStep, (int, float)) ):\n",
    "                    return cls(initialPositionVec, initialVelocityVec, timeStep)\n",
    "                else:\n",
    "                    print(\"Error: timeStep must be a real number\")\n",
    "                    return None\n",
    "        else:\n",
    "            print(\"Error: initial position and initial velocity must be vectors\")\n",
    "            return None\n",
    "    "
   ]
  },
  {
   "cell_type": "code",
   "execution_count": null,
   "metadata": {},
   "outputs": [],
   "source": [
    "startPos = vector.checkDim([10, 10, 0])\n",
    "startVel = vector.checkDim([0, 0, 98])\n",
    "timeStep = 1\n",
    "\n",
    "sim = simulator.checkDim(startPos, startVel, timeStep)\n",
    "trajectory = sim.tSimulate()\n",
    "print( trajectory.shape )\n",
    "print( trajectory )"
   ]
  },
  {
   "cell_type": "code",
   "execution_count": null,
   "metadata": {},
   "outputs": [],
   "source": [
    "sim.hDisR3(startPos.getArray(),startVel.getArray())"
   ]
  },
  {
   "cell_type": "code",
   "execution_count": 224,
   "metadata": {},
   "outputs": [
    {
     "name": "stdout",
     "output_type": "stream",
     "text": [
      "(16, 2)\n",
      "[[10.     0.   ]\n",
      " [12.     0.2  ]\n",
      " [13.608  0.4  ]\n",
      " [14.824  0.6  ]\n",
      " [15.648  0.8  ]\n",
      " [16.08   1.   ]\n",
      " [16.12   1.2  ]\n",
      " [15.768  1.4  ]\n",
      " [15.024  1.6  ]\n",
      " [13.888  1.8  ]\n",
      " [12.36   2.   ]\n",
      " [10.44   2.2  ]\n",
      " [ 8.128  2.4  ]\n",
      " [ 5.424  2.6  ]\n",
      " [ 2.328  2.8  ]\n",
      " [-1.16   3.   ]]\n"
     ]
    }
   ],
   "source": [
    "startPosR1 = vector.checkDim([10])\n",
    "startVelR1 = vector.checkDim([10])\n",
    "timeStep = 0.2\n",
    "\n",
    "simR1 = simulator.checkDim(startPosR1, startVelR1, timeStep)\n",
    "trajectoryR1 = simR1.tSimulate()\n",
    "print( trajectoryR1.shape )\n",
    "print( trajectoryR1 )"
   ]
  },
  {
   "cell_type": "code",
   "execution_count": 225,
   "metadata": {},
   "outputs": [
    {
     "data": {
      "text/plain": [
       "3.0000000000000004"
      ]
     },
     "execution_count": 225,
     "metadata": {},
     "output_type": "execute_result"
    }
   ],
   "source": [
    "simR1.finalTime()"
   ]
  },
  {
   "cell_type": "code",
   "execution_count": 210,
   "metadata": {},
   "outputs": [
    {
     "name": "stdout",
     "output_type": "stream",
     "text": [
      "my dim is 1\n"
     ]
    },
    {
     "data": {
      "image/png": "[encoded data removed]",
      "text/plain": [
       "<Figure size 432x288 with 1 Axes>"
      ]
     },
     "metadata": {
      "needs_background": "light"
     },
     "output_type": "display_data"
    }
   ],
   "source": [
    "simR1.plotTrayectory()"
   ]
  },
  {
   "cell_type": "code",
   "execution_count": 239,
   "metadata": {},
   "outputs": [
    {
     "name": "stdout",
     "output_type": "stream",
     "text": [
      "(15, 3)\n",
      "[[ 2.     2.     0.   ]\n",
      " [ 3.     4.4    0.2  ]\n",
      " [ 4.     6.408  0.4  ]\n",
      " [ 5.     8.024  0.6  ]\n",
      " [ 6.     9.248  0.8  ]\n",
      " [ 7.    10.08   1.   ]\n",
      " [ 8.    10.52   1.2  ]\n",
      " [ 9.    10.568  1.4  ]\n",
      " [10.    10.224  1.6  ]\n",
      " [11.     9.488  1.8  ]\n",
      " [12.     8.36   2.   ]\n",
      " [13.     6.84   2.2  ]\n",
      " [14.     4.928  2.4  ]\n",
      " [15.     2.624  2.6  ]\n",
      " [16.    -0.072  2.8  ]]\n"
     ]
    }
   ],
   "source": [
    "startPosR2 = vector.checkDim([2, 2])\n",
    "startVelR2 = vector.checkDim([5, 12])\n",
    "timeStep = 0.2\n",
    "\n",
    "simR2 = simulator.checkDim(startPosR2, startVelR2, timeStep)\n",
    "trajectoryR2 = simR2.tSimulate()\n",
    "print( trajectoryR2.shape )\n",
    "print( trajectoryR2 )"
   ]
  },
  {
   "cell_type": "code",
   "execution_count": 243,
   "metadata": {},
   "outputs": [
    {
     "data": {
      "text/plain": [
       "2.8000000000000003"
      ]
     },
     "execution_count": 243,
     "metadata": {},
     "output_type": "execute_result"
    }
   ],
   "source": [
    "simR2.finalTime()"
   ]
  },
  {
   "cell_type": "code",
   "execution_count": 244,
   "metadata": {},
   "outputs": [
    {
     "data": {
      "image/png": "[encoded data removed]",
      "text/plain": [
       "<Figure size 432x288 with 1 Axes>"
      ]
     },
     "metadata": {
      "needs_background": "light"
     },
     "output_type": "display_data"
    }
   ],
   "source": [
    "simR2.plotTrayectory()"
   ]
  },
  {
   "cell_type": "code",
   "execution_count": 245,
   "metadata": {},
   "outputs": [
    {
     "name": "stdout",
     "output_type": "stream",
     "text": [
      "(14, 4)\n",
      "[[ 2.     2.     2.     0.   ]\n",
      " [ 4.     4.     4.     0.2  ]\n",
      " [ 6.     6.     5.608  0.4  ]\n",
      " [ 8.     8.     6.824  0.6  ]\n",
      " [10.    10.     7.648  0.8  ]\n",
      " [12.    12.     8.08   1.   ]\n",
      " [14.    14.     8.12   1.2  ]\n",
      " [16.    16.     7.768  1.4  ]\n",
      " [18.    18.     7.024  1.6  ]\n",
      " [20.    20.     5.888  1.8  ]\n",
      " [22.    22.     4.36   2.   ]\n",
      " [24.    24.     2.44   2.2  ]\n",
      " [26.    26.     0.128  2.4  ]\n",
      " [28.    28.    -2.576  2.6  ]]\n"
     ]
    }
   ],
   "source": [
    "startPosR3 = vector.checkDim([2, 2, 2])\n",
    "startVelR3 = vector.checkDim([10, 10, 10])\n",
    "timeStep = 0.2\n",
    "\n",
    "simR3 = simulator.checkDim(startPosR3, startVelR3, timeStep)\n",
    "trajectoryR3 = simR3.tSimulate()\n",
    "print( trajectoryR3.shape )\n",
    "print( trajectoryR3 )"
   ]
  },
  {
   "cell_type": "code",
   "execution_count": 246,
   "metadata": {},
   "outputs": [
    {
     "data": {
      "text/plain": [
       "2.6"
      ]
     },
     "execution_count": 246,
     "metadata": {},
     "output_type": "execute_result"
    }
   ],
   "source": [
    "simR3.finalTime()"
   ]
  },
  {
   "cell_type": "code",
   "execution_count": 247,
   "metadata": {},
   "outputs": [
    {
     "data": {
      "image/png": "[encoded data removed]",
      "text/plain": [
       "<Figure size 432x288 with 1 Axes>"
      ]
     },
     "metadata": {
      "needs_background": "light"
     },
     "output_type": "display_data"
    }
   ],
   "source": [
    "simR3.plotTrayectory()"
   ]
  }
 ],
 "metadata": {
  "kernelspec": {
   "display_name": "Python 3.9.12 ('base')",
   "language": "python",
   "name": "python3"
  },
  "language_info": {
   "codemirror_mode": {
    "name": "ipython",
    "version": 3
   },
   "file_extension": ".py",
   "mimetype": "text/x-python",
   "name": "python",
   "nbconvert_exporter": "python",
   "pygments_lexer": "ipython3",
   "version": "3.9.12"
  },
  "orig_nbformat": 4,
  "vscode": {
   "interpreter": {
    "hash": "66e37a4da3c390ba9102db785636e2db61d518923b2ca2e4091350072f76ee72"
   }
  }
 },
 "nbformat": 4,
 "nbformat_minor": 2
}
